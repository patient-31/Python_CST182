{
  "cells": [
    {
      "cell_type": "markdown",
      "metadata": {
        "id": "view-in-github",
        "colab_type": "text"
      },
      "source": [
        "<a href=\"https://colab.research.google.com/github/patient-31/Python_CST182/blob/main/Daniel_Haddingtons_python_strings_tutorial.ipynb\" target=\"_parent\"><img src=\"https://colab.research.google.com/assets/colab-badge.svg\" alt=\"Open In Colab\"/></a>"
      ]
    },
    {
      "cell_type": "markdown",
      "metadata": {
        "id": "TtDMIiMwLhXf"
      },
      "source": [
        "# **Python Strings:** A Hands-On Tutorial\n",
        "\n",
        "Welcome to this interactive tutorial on **Python Strings**! In this notebook, we'll cover the basics and advanced operations of strings in Python with practical examples and exercises.\n",
        "\n",
        "## 📌 **Learning Objectives**\n",
        "By the end of this tutorial, you will:\n",
        "- Understand how to create and manipulate strings.\n",
        "- Apply string methods for searching, modifying, and formatting text.\n",
        "- Use loops and conditionals to process text.\n",
        "- Work with user input and real-world text processing tasks.\n",
        "\n",
        "---"
      ]
    },
    {
      "cell_type": "markdown",
      "metadata": {
        "id": "jznpcSQHLhXg"
      },
      "source": [
        "## **Creating Strings**\n",
        "Strings in Python are sequences of characters enclosed in **single (`'`)**, **double (`\"`)**, or **triple quotes (`'''` or `\"\"\"`)**."
      ]
    },
    {
      "cell_type": "code",
      "execution_count": 12,
      "metadata": {
        "id": "rwsxVPDhLhXh",
        "colab": {
          "base_uri": "https://localhost:8080/"
        },
        "outputId": "c42ea624-cb17-4ce6-bab5-8581048ec2b6"
      },
      "outputs": [
        {
          "output_type": "stream",
          "name": "stdout",
          "text": [
            "Hello, World!\n",
            "Python is fun!\n",
            "This is a multi-line\n",
            "string example!\n"
          ]
        }
      ],
      "source": [
        "# Examples of strings\n",
        "string1 = 'Hello, World!'\n",
        "string2 = \"Python is fun!\"\n",
        "string3 = '''This is a multi-line\n",
        "string example!'''\n",
        "\n",
        "print(string1)\n",
        "print(string2)\n",
        "print(string3)"
      ]
    },
    {
      "cell_type": "markdown",
      "metadata": {
        "id": "362XbNSlLhXh"
      },
      "source": [
        "## **String Indexing and Slicing**\n",
        "You can access characters in a string using indexing (`[]`) and extract parts of a string using slicing (`[start:end:step]`)."
      ]
    },
    {
      "cell_type": "code",
      "execution_count": 11,
      "metadata": {
        "id": "gpuiDu27LhXh",
        "colab": {
          "base_uri": "https://localhost:8080/"
        },
        "outputId": "6cf9f6e7-302f-478b-977a-9b2cb575e288"
      },
      "outputs": [
        {
          "output_type": "stream",
          "name": "stdout",
          "text": [
            "First character: P\n",
            "Last character: g\n",
            "Slice first 5 chars: Progr\n",
            "Every second letter: Pormig\n"
          ]
        }
      ],
      "source": [
        "text = \"Programming\"\n",
        "print(\"First character:\", text[0])  # P\n",
        "print(\"Last character:\", text[-1])  # g\n",
        "print(\"Slice first 5 chars:\", text[:5])  # Progr\n",
        "print(\"Every second letter:\", text[::2])  # Pormig"
      ]
    },
    {
      "cell_type": "markdown",
      "metadata": {
        "id": "WVcUcrFdLhXi"
      },
      "source": [
        "### ✏️ Try it Yourself!\n",
        "**Task:** Extract the word \"Python\" from the string below using slicing."
      ]
    },
    {
      "cell_type": "code",
      "execution_count": 10,
      "metadata": {
        "id": "MqnG7GrBLhXi",
        "colab": {
          "base_uri": "https://localhost:8080/"
        },
        "outputId": "e1199026-392f-4823-d779-a7c35474fed1"
      },
      "outputs": [
        {
          "output_type": "stream",
          "name": "stdout",
          "text": [
            "Python\n"
          ]
        }
      ],
      "source": [
        "sentence = \"Learning Python is exciting!\"\n",
        "# Write your slicing code here\n",
        "s_left = sentence.find(\"Python\")\n",
        "s_right = s_left + len(\"Python\")\n",
        "python_word = sentence[s_left:s_right]  # Replace ... with correct slicing\n",
        "print(python_word)"
      ]
    },
    {
      "cell_type": "markdown",
      "metadata": {
        "id": "VtL46S9nLhXi"
      },
      "source": [
        "## **String Methods**\n",
        "Python provides several built-in string methods to modify and analyze text."
      ]
    },
    {
      "cell_type": "code",
      "execution_count": 9,
      "metadata": {
        "id": "PL1NkDcuLhXi",
        "colab": {
          "base_uri": "https://localhost:8080/"
        },
        "outputId": "aa2d15e6-9605-422f-d93e-88034226bf4d"
      },
      "outputs": [
        {
          "output_type": "stream",
          "name": "stdout",
          "text": [
            "Lowercase:   python is awesome!  \n",
            "Uppercase:   PYTHON IS AWESOME!  \n",
            "Stripped: Python is awesome!\n",
            "Replaced:   Python is fun!  \n",
            "Split: ['Python', 'is', 'awesome!']\n"
          ]
        }
      ],
      "source": [
        "text = \"  Python is awesome!  \"\n",
        "print(\"Lowercase:\", text.lower())\n",
        "print(\"Uppercase:\", text.upper())\n",
        "print(\"Stripped:\", text.strip())\n",
        "print(\"Replaced:\", text.replace(\"awesome\", \"fun\"))\n",
        "print(\"Split:\", text.split())  # Converts string to list"
      ]
    },
    {
      "cell_type": "markdown",
      "metadata": {
        "id": "EeJ2c0JkLhXi"
      },
      "source": [
        "### ✏️ Try it Yourself!\n",
        "**Task:** Given the string `email = \"student@example.com\"`, extract and print only the username (before `@`)."
      ]
    },
    {
      "cell_type": "code",
      "execution_count": 7,
      "metadata": {
        "id": "leivE5UELhXi",
        "colab": {
          "base_uri": "https://localhost:8080/"
        },
        "outputId": "6d7317ad-5a5f-4fff-e9ee-260d68a68616"
      },
      "outputs": [
        {
          "output_type": "stream",
          "name": "stdout",
          "text": [
            "student\n"
          ]
        }
      ],
      "source": [
        "email = \"student@example.com\"\n",
        "# Write your code here to extract the username\n",
        "s_right = email.find(\"@\")\n",
        "username = email[:s_right]  # Replace ... with correct method\n",
        "print(username)"
      ]
    },
    {
      "cell_type": "markdown",
      "metadata": {
        "id": "JaOeDEHGLhXj"
      },
      "source": [
        "## **String Formatting**\n",
        "You can format strings using **f-strings**, `.format()`, or `%` formatting."
      ]
    },
    {
      "cell_type": "code",
      "execution_count": 13,
      "metadata": {
        "id": "IETwr3RaLhXj",
        "colab": {
          "base_uri": "https://localhost:8080/"
        },
        "outputId": "a06625fe-3a1a-4ca9-a496-d898f97532d0"
      },
      "outputs": [
        {
          "output_type": "stream",
          "name": "stdout",
          "text": [
            "My name is Alice and I am 25 years old.\n"
          ]
        }
      ],
      "source": [
        "name = \"Alice\"\n",
        "age = 25\n",
        "print(f\"My name is {name} and I am {age} years old.\")"
      ]
    },
    {
      "cell_type": "markdown",
      "metadata": {
        "id": "xXzSY48gLhXj"
      },
      "source": [
        "## **Looping Through Strings**\n",
        "You can iterate over a string using a `for` loop."
      ]
    },
    {
      "cell_type": "code",
      "execution_count": 14,
      "metadata": {
        "id": "0Ff7cySVLhXj",
        "colab": {
          "base_uri": "https://localhost:8080/"
        },
        "outputId": "68dd1e35-5cde-45bd-a03b-911b1e1d6cff"
      },
      "outputs": [
        {
          "output_type": "stream",
          "name": "stdout",
          "text": [
            "P\n",
            "y\n",
            "t\n",
            "h\n",
            "o\n",
            "n\n"
          ]
        }
      ],
      "source": [
        "text = \"Python\"\n",
        "for char in text:\n",
        "    print(char)"
      ]
    },
    {
      "cell_type": "markdown",
      "metadata": {
        "id": "hxCTozWwLhXj"
      },
      "source": [
        "### ✏️ Try it Yourself!\n",
        "**Task:** Count the number of vowels in a given string."
      ]
    },
    {
      "cell_type": "code",
      "execution_count": 15,
      "metadata": {
        "id": "C_YZTyACLhXj",
        "colab": {
          "base_uri": "https://localhost:8080/"
        },
        "outputId": "5e35d254-063c-4a15-83b1-64b720d245cc"
      },
      "outputs": [
        {
          "output_type": "stream",
          "name": "stdout",
          "text": [
            "Number of vowels: 5\n"
          ]
        }
      ],
      "source": [
        "text = \"Programming is fun!\"\n",
        "# Write your code here to count vowels\n",
        "vowel_count = 0\n",
        "for char in text:\n",
        "    if char in \"aeiouAEIOU\":\n",
        "        vowel_count += 1\n",
        "print(\"Number of vowels:\", vowel_count)"
      ]
    },
    {
      "cell_type": "markdown",
      "metadata": {
        "id": "X0Rh4wUkLhXj"
      },
      "source": [
        "---\n",
        "## 🎉 **Congratulations!** 🎉 You've *(started)* learning Strings in Python!\n",
        "\n",
        "In this tutorial, we covered:\n",
        "- String creation and properties\n",
        "- Indexing, slicing, and methods\n",
        "- Formatting and looping through strings\n",
        "\n",
        "**Now try experimenting with your own string operations**"
      ]
    }
  ],
  "metadata": {
    "kernelspec": {
      "display_name": "Python 3",
      "language": "python",
      "name": "python3"
    },
    "language_info": {
      "codemirror_mode": {
        "name": "ipython",
        "version": 3
      },
      "file_extension": ".py",
      "mimetype": "text/x-python",
      "name": "python",
      "nbconvert_exporter": "python",
      "pygments_lexer": "ipython3",
      "version": "3.7.10"
    },
    "colab": {
      "provenance": [],
      "include_colab_link": true
    }
  },
  "nbformat": 4,
  "nbformat_minor": 0
}