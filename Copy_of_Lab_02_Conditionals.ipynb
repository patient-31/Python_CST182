{
  "nbformat": 4,
  "nbformat_minor": 0,
  "metadata": {
    "colab": {
      "provenance": [],
      "toc_visible": true,
      "include_colab_link": true
    },
    "kernelspec": {
      "name": "python3",
      "display_name": "Python 3"
    },
    "language_info": {
      "name": "python"
    }
  },
  "cells": [
    {
      "cell_type": "markdown",
      "metadata": {
        "id": "view-in-github",
        "colab_type": "text"
      },
      "source": [
        "<a href=\"https://colab.research.google.com/github/patient-31/Python_CST182/blob/main/Copy_of_Lab_02_Conditionals.ipynb\" target=\"_parent\"><img src=\"https://colab.research.google.com/assets/colab-badge.svg\" alt=\"Open In Colab\"/></a>"
      ]
    },
    {
      "cell_type": "markdown",
      "source": [
        "# **LAB #02** - CONDITIONALS\n",
        "<br/>\n"
      ],
      "metadata": {
        "id": "qdM8hjkwAnQ5"
      }
    },
    {
      "cell_type": "markdown",
      "source": [
        "><table>\n",
        "##**Lab Overview**\n",
        "\n",
        "These lab questions will help develop your understanding of conditional statements and some of the applications where conditionals are used.  \n",
        "></table>\n",
        "\n",
        "<br/><br/>\n",
        "\n"
      ],
      "metadata": {
        "id": "ax351qT1A2wO"
      }
    },
    {
      "cell_type": "markdown",
      "source": [
        "# **Question #1** - Sort three numbers\n",
        "---\n",
        "<br/>\n",
        "\n",
        "Write a program that asks for three numbers from the user, and prints out the three numbers in ascending order.  <br/><br/>\n",
        "\n",
        "\n",
        "**<u>Example Run:</u>**<br/>\n",
        "Number #1? **9**<br/>\n",
        "Number #1? **3**<br/>\n",
        "Number #1? **5**<br/>\n",
        "Result = 3 5 9<br/>\n",
        "<br/>\n",
        ">**Note:** *You cannot use the `max()` or `min()` functions*\n"
      ],
      "metadata": {
        "id": "f1kwJQuoLhE4"
      }
    },
    {
      "cell_type": "markdown",
      "source": [
        "### Your Answer:"
      ],
      "metadata": {
        "id": "jxaY-33JMb77"
      }
    },
    {
      "cell_type": "code",
      "source": [
        "# Student Name: 1034724\n",
        "# Student Number: Daniel Haddington\n",
        "\n",
        "# Add answer below this line\n",
        "a = int(input(\"Number 1? \"))\n",
        "b = int(input(\"Number 2? \"))\n",
        "c = int(input(\"Number 3? \"))\n",
        "\n",
        "if a > b:\n",
        "  a, b = b, a\n",
        "if b > c:\n",
        "  b, c = c, b\n",
        "if a > b:\n",
        "  a, b = b, a\n",
        "\n",
        "print(a, b, c)\n"
      ],
      "metadata": {
        "id": "Wc7e2wC5McY0",
        "colab": {
          "base_uri": "https://localhost:8080/",
          "height": 0
        },
        "outputId": "5284e900-fec2-4ba2-9f99-acb7d8a1b903"
      },
      "execution_count": 5,
      "outputs": [
        {
          "output_type": "stream",
          "name": "stdout",
          "text": [
            "Number 1? 8\n",
            "Number 2? 12\n",
            "Number 3? 2\n",
            "2 8 12\n"
          ]
        }
      ]
    },
    {
      "cell_type": "markdown",
      "source": [
        "<Br/><br/>\n"
      ],
      "metadata": {
        "id": "McmLtW4vMjKn"
      }
    },
    {
      "cell_type": "markdown",
      "source": [
        "# **Question #2** - BMI Calculator + Range\n",
        "---\n",
        "\n",
        "<br/>\n",
        "\n",
        "We will take the BMI question from Tutorial #1 and extend its functionality.<br/><br/>\n",
        "\n",
        "> <table><tr><td>\n",
        "\n",
        "<b>Old Tutorial 1 Question</b><Br/><br/>\n",
        "\n",
        "Create a program that calculates a user's BMI. To do this, you will need to take in the users:\n",
        "\n",
        "1.   name\n",
        "2.   height (in meters; e.g., 1.8)\n",
        "3.   weight (in kg; e.g., 60)\n",
        "\n",
        "and then insert the values into the equation: $BMI = \\frac{weight}{height^2}$\n",
        "<br/>\n",
        "<br/>\n",
        "(Note: You can square the height by either multiplying by itself, or using `height**2`)\n",
        "<br/><br/>\n",
        "\n",
        "The output is expected to be similar to:\n",
        "\n",
        "`Hi Luke, your BMI is 23.0`\n",
        "\n",
        "></td></tr></table>\n",
        "\n",
        "<br/><br/>\n",
        "\n",
        "Your job is to update this program so it also shows the range that the calculated BMI falls within. <br/><br/>\n",
        "\n",
        "\n",
        "**<u>Example Run:</u>**<br/>\n",
        "Weight? **180**<br/>\n",
        "Height? **80**<br/>\n",
        "BMI = 24.7<br/>\n",
        "The given BMI is classified as: Healthy<br/>\n",
        "\n",
        ">**Note:** *The ranges haven't been given to you - you need to do a bit of research and add a reference to the site you used in the program comments.*\n",
        "\n",
        "\n",
        "<br/>\n"
      ],
      "metadata": {
        "id": "9ML3CMJVBxuF"
      }
    },
    {
      "cell_type": "markdown",
      "source": [
        "### Your Answer:"
      ],
      "metadata": {
        "id": "gPCRbhBxGMN0"
      }
    },
    {
      "cell_type": "code",
      "execution_count": 4,
      "metadata": {
        "id": "LuZZ6MqZAkbS",
        "colab": {
          "base_uri": "https://localhost:8080/",
          "height": 0
        },
        "outputId": "dcf7f993-6252-4528-8941-395d0d86c683"
      },
      "outputs": [
        {
          "output_type": "stream",
          "name": "stdout",
          "text": [
            "Weight (kg)? 100\n",
            "Height(m)? 1.75\n",
            "BMI = 32.6530612244898\n",
            "Obese\n"
          ]
        }
      ],
      "source": [
        "# Student Name: 1034724\n",
        "# Student Number: Daniel Haddington\n",
        "# BMI Ranges Reference URL: https://www.health.nsw.gov.au/heal/Pages/bmi.aspx\n",
        "\n",
        "# Add answer below this line\n",
        "w = int(input(\"Weight (kg)? \"))\n",
        "h = float(input(\"Height(m)? \"))\n",
        "bmi = w / (h ** 2)\n",
        "\n",
        "if bmi >= 30:\n",
        "  result = \"Obese\"\n",
        "elif bmi >= 25 and bmi < 30:\n",
        "  result = \"Overweight\"\n",
        "elif bmi >= 18.5 and bmi < 25:\n",
        "  result = \"Healthy\"\n",
        "elif bmi < 18.5:\n",
        "  result = \"Underweight\"\n",
        "print (f\"BMI = {bmi}\")\n",
        "print (result)"
      ]
    },
    {
      "cell_type": "markdown",
      "source": [
        "<br/><br/>\n"
      ],
      "metadata": {
        "id": "gPpEwbJeD_qb"
      }
    },
    {
      "cell_type": "markdown",
      "source": [
        "# **Question #3** - Movie tickets\n",
        "---\n",
        "\n",
        "Create a program that calculates the cost of a ticket at the movies. The program asks the person's age. If they are under 18, they get a child's ticket at \\$10.00, and adults pay \\$20.00. However, if a person is over 65, they are asked if they have a concession card, and if so, then receive a \\$15.00 ticket. <br/><br/>\n",
        "\n",
        "**<u>Example Run #1:</u>**<br/>\n",
        "Age? **15**<br/>\n",
        "Ticket = $10.00<br/><br/>\n",
        "\n",
        "**<u>Example Run #2:</u>**<br/>\n",
        "Age? **30**<br/>\n",
        "Ticket = $20.00<br/><br/>\n",
        "\n",
        "**<u>Example Run #3:</u>**<br/>\n",
        "Age? **70**<br/>\n",
        "Concession Card? **Yes**<br/>\n",
        "Ticket = $15.00<br/><br/>\n",
        "\n",
        "**<u>Example Run #4:</u>**<br/>\n",
        "Age? **70**<br/>\n",
        "Concession Card? **No**<br/>\n",
        "Ticket = $20.00<br/><br/>"
      ],
      "metadata": {
        "id": "gJ5eqV6jEA9g"
      }
    },
    {
      "cell_type": "markdown",
      "source": [
        "### Your Answer:"
      ],
      "metadata": {
        "id": "k1Og8sTGGIGP"
      }
    },
    {
      "cell_type": "code",
      "source": [
        "# Student Name: Daniel Haddington\n",
        "# Student Number: 1034724\n",
        "\n",
        "# Add answer below this line\n",
        "age = int(input(\"Age? \"))\n",
        "concession = input(\"Concession Card? \")\n",
        "if age < 18:\n",
        "  print(f\"Ticket = $10.00\")\n",
        "else:\n",
        "  if age > 65 and concession == \"Yes\":\n",
        "    print(f\"Ticket = $15.00\")\n",
        "  else:\n",
        "    print(f\"Ticket = $20.00\")\n"
      ],
      "metadata": {
        "id": "z4XLivudFpaW",
        "colab": {
          "base_uri": "https://localhost:8080/",
          "height": 0
        },
        "outputId": "dba00ba8-1e66-4ec6-9521-b5cc802bd569"
      },
      "execution_count": 7,
      "outputs": [
        {
          "output_type": "stream",
          "name": "stdout",
          "text": [
            "Age? 70\n",
            "Concession Card? Yes\n",
            "Ticket = $15.00\n"
          ]
        }
      ]
    },
    {
      "cell_type": "markdown",
      "source": [
        "<br/><br/>"
      ],
      "metadata": {
        "id": "yNYlz8tFGt0U"
      }
    },
    {
      "cell_type": "markdown",
      "source": [
        "# **Submission**\n",
        "---\n",
        "\n",
        "When you believe you have the program correctly working, please run the program and enter valid details for each program so that the output is apparent.\n",
        "<br/><br/>\n",
        "When you are ready to submit please\n",
        "\n",
        "*   go to `File` -> `Print` -> `Print PDF` and then upload and submit in the LMS.\n",
        "*   save your file to GitHub via: `File` -> `Save a copy in GitHub`\n"
      ],
      "metadata": {
        "id": "CxZ8SilaD9Gq"
      }
    }
  ]
}