{
  "nbformat": 4,
  "nbformat_minor": 0,
  "metadata": {
    "colab": {
      "provenance": [],
      "include_colab_link": true
    },
    "kernelspec": {
      "name": "python3",
      "display_name": "Python 3"
    },
    "language_info": {
      "name": "python"
    }
  },
  "cells": [
    {
      "cell_type": "markdown",
      "metadata": {
        "id": "view-in-github",
        "colab_type": "text"
      },
      "source": [
        "<a href=\"https://colab.research.google.com/github/patient-31/Python_CST182/blob/main/Tutorial_7_Dictionaries_%26_Sets.ipynb\" target=\"_parent\"><img src=\"https://colab.research.google.com/assets/colab-badge.svg\" alt=\"Open In Colab\"/></a>"
      ]
    },
    {
      "cell_type": "markdown",
      "source": [
        "\n",
        "\n",
        "\n",
        "# **TUTORIAL #7 - Dictionaries & Sets**\n",
        "<br/>\n",
        "\n",
        "\n",
        "\n",
        "\n",
        "\n"
      ],
      "metadata": {
        "id": "h7roITOPgVZ6"
      }
    },
    {
      "cell_type": "markdown",
      "source": [
        "In this tutorial, we will be revise the main topics covered in dictionaries & sets.\n",
        "\n",
        "> **Note:** *For a comprehensive understanding please refer to the materials on the LMS*"
      ],
      "metadata": {
        "id": "j39qU2KEJ8Uu"
      }
    },
    {
      "cell_type": "markdown",
      "source": [
        "<br/>"
      ],
      "metadata": {
        "id": "HAhssq8Hr0Jn"
      }
    },
    {
      "cell_type": "markdown",
      "source": [],
      "metadata": {
        "id": "0ZvitM5cI9EK"
      }
    },
    {
      "cell_type": "markdown",
      "source": [
        "## **#1. Dictionaries**\n",
        "---\n",
        "\n",
        "Dictionaries are another data structure avaiable in Python. They are similar to lists in the fact they can store data, however, differ in that they are in the format of `key:value` pairs (rather than values with associated indicies)"
      ],
      "metadata": {
        "id": "-GAXHau1oAMK"
      }
    },
    {
      "cell_type": "markdown",
      "source": [
        "### **Basics**\n",
        "\n",
        "\n",
        "We can set up a dictionary by simply assigning key:value pairs:"
      ],
      "metadata": {
        "id": "Gv_oPq7ExgjK"
      }
    },
    {
      "cell_type": "code",
      "source": [
        "my_dict = {\n",
        "    \"name\": \"Luke\",\n",
        "    \"age\": 33,\n",
        "    \"Occupation\": \"Educator\"\n",
        "}"
      ],
      "metadata": {
        "id": "v9xYp4ySBHks"
      },
      "execution_count": null,
      "outputs": []
    },
    {
      "cell_type": "markdown",
      "source": [
        "and print the list via"
      ],
      "metadata": {
        "id": "lQS8F7I3BMYg"
      }
    },
    {
      "cell_type": "code",
      "source": [
        "print(my_dict)"
      ],
      "metadata": {
        "colab": {
          "base_uri": "https://localhost:8080/"
        },
        "id": "YVOtdwycBN8_",
        "outputId": "2f301fbb-fe76-417f-e611-9a68ee322449"
      },
      "execution_count": null,
      "outputs": [
        {
          "output_type": "stream",
          "name": "stdout",
          "text": [
            "{'name': 'Luke', 'age': 33, 'Occupation': 'Educator'}\n"
          ]
        }
      ]
    },
    {
      "cell_type": "markdown",
      "source": [
        "or print a specific value in the list via index"
      ],
      "metadata": {
        "id": "Z67tf9npBQPV"
      }
    },
    {
      "cell_type": "code",
      "source": [
        "print(my_dict[\"name\"])"
      ],
      "metadata": {
        "colab": {
          "base_uri": "https://localhost:8080/"
        },
        "id": "UDekIoc5BPXn",
        "outputId": "a44f6b67-b79e-41f1-da2f-b22da0f7f0b1"
      },
      "execution_count": null,
      "outputs": [
        {
          "output_type": "stream",
          "name": "stdout",
          "text": [
            "Luke\n"
          ]
        }
      ]
    },
    {
      "cell_type": "markdown",
      "source": [
        "### **Dictionary Manipulative Functions**\n",
        "\n",
        "---\n",
        "<br/>\n",
        "\n",
        "We can use a variety of functions to manipulate the data in our dictionaries"
      ],
      "metadata": {
        "id": "XASv2WpqChUh"
      }
    },
    {
      "cell_type": "markdown",
      "source": [
        "#### **Add values**\n",
        "\n",
        "We can add values by simply assigning a new key:value pair."
      ],
      "metadata": {
        "id": "igh09XYeCqDk"
      }
    },
    {
      "cell_type": "code",
      "source": [
        "print(my_dict)\n",
        "\n",
        "my_dict[\"height\"] = 1.87\n",
        "print(my_dict)"
      ],
      "metadata": {
        "colab": {
          "base_uri": "https://localhost:8080/"
        },
        "id": "876pBE3xCoST",
        "outputId": "9c845116-4b90-4591-d2f8-73b5a727e6d3"
      },
      "execution_count": null,
      "outputs": [
        {
          "output_type": "stream",
          "name": "stdout",
          "text": [
            "{'name': 'Luke', 'age': 33, 'Occupation': 'Educator'}\n",
            "{'name': 'Luke', 'age': 33, 'Occupation': 'Educator', 'height': 1.87}\n"
          ]
        }
      ]
    },
    {
      "cell_type": "markdown",
      "source": [
        "#### **Update Values**\n",
        "\n",
        "We can update values by simply setting the key of the dictionary to a new value"
      ],
      "metadata": {
        "id": "S_6a8MJmC3BY"
      }
    },
    {
      "cell_type": "code",
      "source": [
        "print(my_dict)\n",
        "\n",
        "my_dict[\"age\"] = 99\n",
        "print(my_dict)"
      ],
      "metadata": {
        "colab": {
          "base_uri": "https://localhost:8080/"
        },
        "id": "IKaGpsg6C-ws",
        "outputId": "931ef231-7891-43e1-cbe1-136c48a52e6f"
      },
      "execution_count": null,
      "outputs": [
        {
          "output_type": "stream",
          "name": "stdout",
          "text": [
            "{'name': 'Luke', 'age': 33, 'Occupation': 'Educator', 'height': 1.87}\n",
            "{'name': 'Luke', 'age': 99, 'Occupation': 'Educator', 'height': 1.87}\n"
          ]
        }
      ]
    },
    {
      "cell_type": "markdown",
      "source": [
        "#### **Delete Values** | *via key*\n",
        "\n",
        "We can delete values via the keyword `del`"
      ],
      "metadata": {
        "id": "eX991RlrDcmL"
      }
    },
    {
      "cell_type": "code",
      "source": [
        "print(my_dict)\n",
        "\n",
        "del my_dict[\"height\"]\n",
        "print(my_dict)"
      ],
      "metadata": {
        "colab": {
          "base_uri": "https://localhost:8080/"
        },
        "id": "uVXhtXl9DfOX",
        "outputId": "b95216c8-308e-4789-bd8d-2d0265180486"
      },
      "execution_count": null,
      "outputs": [
        {
          "output_type": "stream",
          "name": "stdout",
          "text": [
            "{'name': 'Luke', 'age': 99, 'Occupation': 'Educator', 'height': 1.87}\n",
            "{'name': 'Luke', 'age': 99, 'Occupation': 'Educator'}\n"
          ]
        }
      ]
    },
    {
      "cell_type": "markdown",
      "source": [
        "## **#2. Sets**\n",
        "---\n",
        "\n",
        "Sets are another data structure avaiable in Python. The difference is that sets do not allow duplicate values, and they also have some additional functions for comparing two sets\n"
      ],
      "metadata": {
        "id": "JjPT5mCDI_lW"
      }
    },
    {
      "cell_type": "markdown",
      "source": [
        "### **Basics**\n",
        "\n",
        "\n",
        "We can set up a set by simply passing values between curly braces (similar to a dictionary - but here we do not pass key:value pairs)"
      ],
      "metadata": {
        "id": "9zKfu3usJQhi"
      }
    },
    {
      "cell_type": "code",
      "source": [
        "my_set = {\"Apple\", \"Banana\", \"Orange\"}"
      ],
      "metadata": {
        "id": "bIu6bj8aJQhj"
      },
      "execution_count": null,
      "outputs": []
    },
    {
      "cell_type": "markdown",
      "source": [
        "and print the set via"
      ],
      "metadata": {
        "id": "EvBQa6jhJQhj"
      }
    },
    {
      "cell_type": "code",
      "source": [
        "print(my_set)"
      ],
      "metadata": {
        "colab": {
          "base_uri": "https://localhost:8080/"
        },
        "outputId": "ffb4c1bd-778f-4cd2-971e-ae163d43d4bc",
        "id": "YqOzfwKOJQhj"
      },
      "execution_count": null,
      "outputs": [
        {
          "output_type": "stream",
          "name": "stdout",
          "text": [
            "{'Apple', 'Banana', 'Orange'}\n"
          ]
        }
      ]
    },
    {
      "cell_type": "markdown",
      "source": [
        "### **Set Manipulative Functions**\n",
        "\n",
        "---\n",
        "<br/>\n",
        "\n",
        "We can use a variety of functions to manipulate the data in our sets"
      ],
      "metadata": {
        "id": "okYMKkH1JQhk"
      }
    },
    {
      "cell_type": "markdown",
      "source": [
        "#### **Add values**\n",
        "\n",
        "We can add values via the `add()` method"
      ],
      "metadata": {
        "id": "xzBfFOPJJQhk"
      }
    },
    {
      "cell_type": "code",
      "source": [
        "print(my_set)\n",
        "\n",
        "my_set.add(\"Mango\")\n",
        "print(my_set)"
      ],
      "metadata": {
        "colab": {
          "base_uri": "https://localhost:8080/"
        },
        "outputId": "970dbd78-7a0a-4393-8bbf-167a5de32b95",
        "id": "znJikzafJQhk"
      },
      "execution_count": null,
      "outputs": [
        {
          "output_type": "stream",
          "name": "stdout",
          "text": [
            "{'Apple', 'Banana', 'Orange'}\n",
            "{'Mango', 'Apple', 'Banana', 'Orange'}\n"
          ]
        }
      ]
    },
    {
      "cell_type": "markdown",
      "source": [
        "#### **Delete Values** | *via value*\n",
        "\n",
        "We can delete values by their index via the `remove()` method"
      ],
      "metadata": {
        "id": "QCfHTnA6JQhl"
      }
    },
    {
      "cell_type": "code",
      "source": [
        "print(my_set)\n",
        "\n",
        "my_set.remove(\"Apple\")\n",
        "print(my_set)"
      ],
      "metadata": {
        "colab": {
          "base_uri": "https://localhost:8080/"
        },
        "outputId": "8be4ea74-e0ae-4046-cbec-9fa28e9f202b",
        "id": "Qw7mVuBUJQhl"
      },
      "execution_count": null,
      "outputs": [
        {
          "output_type": "stream",
          "name": "stdout",
          "text": [
            "{'Mango', 'Apple', 'Banana', 'Orange'}\n",
            "{'Mango', 'Banana', 'Orange'}\n"
          ]
        }
      ]
    },
    {
      "cell_type": "markdown",
      "source": [
        "### **Set Additional Functions**\n",
        "\n",
        "---\n",
        "<br/>\n",
        "\n",
        "There are additional functions in sets to check commonalities or differences between two sets"
      ],
      "metadata": {
        "id": "SmdTC9r9Kk07"
      }
    },
    {
      "cell_type": "markdown",
      "source": [
        "### **`Union()`**\n",
        "\n",
        "\n",
        "The `union()` method allows us to join two sets together"
      ],
      "metadata": {
        "id": "Mfyp0vJsKugG"
      }
    },
    {
      "cell_type": "code",
      "source": [
        "new_set = {\"Pear\", \"Banana\"}\n",
        "\n",
        "print(my_set)\n",
        "print(new_set)\n",
        "\n",
        "print(\"\\n------------- union() ---------------\\n\")\n",
        "\n",
        "my_set.union(new_set)"
      ],
      "metadata": {
        "colab": {
          "base_uri": "https://localhost:8080/"
        },
        "id": "gT8xOig0Ky8d",
        "outputId": "c42fd91a-d061-4063-9ce4-e6a5c13fdde5"
      },
      "execution_count": null,
      "outputs": [
        {
          "output_type": "stream",
          "name": "stdout",
          "text": [
            "{'Mango', 'Banana', 'Orange'}\n",
            "{'Pear', 'Banana'}\n",
            "\n",
            "------------- union() ---------------\n",
            "\n"
          ]
        },
        {
          "output_type": "execute_result",
          "data": {
            "text/plain": [
              "{'Banana', 'Mango', 'Orange', 'Pear'}"
            ]
          },
          "metadata": {},
          "execution_count": 11
        }
      ]
    },
    {
      "cell_type": "markdown",
      "source": [
        "### **`Intersection()`**\n",
        "\n",
        "\n",
        "The `intersection()` method allows us to see which values (if any) are common amongst both sets"
      ],
      "metadata": {
        "id": "G8_HSjYLLU6b"
      }
    },
    {
      "cell_type": "code",
      "source": [
        "print(my_set)\n",
        "print(new_set)\n",
        "\n",
        "print(\"\\n------------- intersection() ---------------\\n\")\n",
        "\n",
        "my_set.intersection(new_set)"
      ],
      "metadata": {
        "colab": {
          "base_uri": "https://localhost:8080/"
        },
        "id": "FPrscJ03LiTz",
        "outputId": "b154144a-a9d7-4c35-ab59-1fb558473492"
      },
      "execution_count": null,
      "outputs": [
        {
          "output_type": "stream",
          "name": "stdout",
          "text": [
            "{'Mango', 'Banana', 'Orange'}\n",
            "{'Pear', 'Banana'}\n",
            "\n",
            "------------- intersection() ---------------\n",
            "\n"
          ]
        },
        {
          "output_type": "execute_result",
          "data": {
            "text/plain": [
              "{'Banana'}"
            ]
          },
          "metadata": {},
          "execution_count": 12
        }
      ]
    },
    {
      "cell_type": "markdown",
      "source": [
        "### **`Difference()`**\n",
        "\n",
        "\n",
        "The `difference()` method allows us to see which values appear in the first set but not the second"
      ],
      "metadata": {
        "id": "PpL0vPfOLdM2"
      }
    },
    {
      "cell_type": "code",
      "source": [
        "print(my_set)\n",
        "print(new_set)\n",
        "\n",
        "print(\"\\n------------- difference() ---------------\\n\")\n",
        "\n",
        "print(my_set.difference(new_set), \"\\t(my_set.difference(new_set)\")\n",
        "print(new_set.difference(my_set), \"\\t\\t(new_set.difference(my_set)\")\n"
      ],
      "metadata": {
        "colab": {
          "base_uri": "https://localhost:8080/"
        },
        "id": "rkYw1fpaLu9w",
        "outputId": "a73a44cf-475f-484a-f9de-6deef07fa814"
      },
      "execution_count": null,
      "outputs": [
        {
          "output_type": "stream",
          "name": "stdout",
          "text": [
            "{'Mango', 'Banana', 'Orange'}\n",
            "{'Pear', 'Banana'}\n",
            "\n",
            "------------- difference() ---------------\n",
            "\n",
            "{'Mango', 'Orange'} \t(my_set.difference(new_set)\n",
            "{'Pear'} \t\t(new_set.difference(my_set)\n"
          ]
        }
      ]
    },
    {
      "cell_type": "markdown",
      "source": [
        "<br/>"
      ],
      "metadata": {
        "id": "wLsdv7ooLub5"
      }
    },
    {
      "cell_type": "markdown",
      "source": [
        "\n",
        "##  **#3.YOUR TURN**\n",
        "---"
      ],
      "metadata": {
        "id": "LTfa8ImBtsha"
      }
    },
    {
      "cell_type": "markdown",
      "source": [
        "### **Program #1 |** A Simple Student Class &nbsp; **<i>[EXTENDED #2]</i>**\n",
        "---\n",
        "\n",
        "\n",
        "><table>\n",
        "\n",
        "Take the *Simple Student Class* tutorial from last week and paste your code below.\n",
        "></table>\n",
        "\n",
        ">><table>\n",
        "<small>\n",
        "In this program we will create a simple student class and a few objects.\n",
        "<br/><br/>\n",
        "The student class should have the following:<br/>\n",
        "\n",
        "Properties\n",
        "* `name` the name of the student\n",
        "* `marks` a list of final marks the student has been awarded\n",
        "\n",
        "\n",
        "Methods\n",
        "* `add_mark()` which takes a single value and adds it to the list of marks\n",
        "* `calculate_GPA()` which gets the average from the list of marks\n",
        "* `print_student()` which nicely prints a transcript for the student (name, marks, GPA)</small>\n",
        ">></table>\n",
        "\n",
        "><table>\n",
        "\n",
        "#### Your Task\n",
        "\n",
        "\n",
        "1.  Update the program to read in the data from `student_marks.txt` file (rather than the current data hard-coded in the program) into a List\n",
        "\n",
        "2. From there, you need to calculate the GPA for each student, and then print to a new file (`GPA_List.txt`) each student's name alongside their associated GPA in descending order.\n",
        "\n",
        "></table>\n",
        "\n",
        "<br/>\n",
        "\n",
        "### **Your Task**\n",
        "\n",
        "In the new program, use a dictionary to hold the data:\n",
        "* `name` holds the student's name\n",
        "* `scores` is a list that contains each student's scores"
      ],
      "metadata": {
        "id": "2uifW04Is2EE"
      }
    },
    {
      "cell_type": "code",
      "source": [
        "# Student Name:   Daniel Haddington\n",
        "# Student Number: 1034724\n",
        "\n",
        "class Student:\n",
        "  def __init__(self, name):\n",
        "    self.name = name\n",
        "    self.marks = []\n",
        "\n",
        "  def add_mark(self, mark):\n",
        "    self.marks.append(mark)\n",
        "\n",
        "  def calculate_GPA(self):\n",
        "    GPA = 0\n",
        "    for mark in self.marks:\n",
        "      GPA += mark\n",
        "    GPA /= len(self.marks)\n",
        "    return GPA\n",
        "\n",
        "  def print_student(self):\n",
        "    print(self.name)\n",
        "    print(self.marks)\n",
        "    print(self.calculate_GPA())\n",
        "\n",
        "\n",
        "def main():\n",
        "  sm_file = open(\"student_marks.txt\", \"r\")\n",
        "  Students = []\n",
        "  for line in sm_file:\n",
        "    temp_line = line.split()\n",
        "    temp_object = Student(temp_line[0])\n",
        "    for i in range(1, len(temp_line)):\n",
        "      temp_object.add_mark(int(temp_line[i]))\n",
        "    Students.append(temp_object)\n",
        "  sm_file.close()\n",
        "\n",
        "  # Add to GPA_List.txt # added unsorted... sorry\n",
        "  gpa_file = open(\"GPA_List.txt\", \"w\")\n",
        "  for student in Students:\n",
        "    gpa_file.write(f\"NAME: {student.name}, GPA: {student.calculate_GPA()}\\n\")\n",
        "  gpa_file.close()\n",
        "\n",
        "\n",
        "  student_dict = {}\n",
        "  # Add to Dictionary\n",
        "  for student in Students:\n",
        "    student_dict[student.name] = student.marks\n",
        "\n",
        "  print(student_dict)\n",
        "\n",
        "main()"
      ],
      "metadata": {
        "id": "6_CTo-8Rjbu3",
        "colab": {
          "base_uri": "https://localhost:8080/",
          "height": 0
        },
        "outputId": "50a683ee-4325-438c-c382-2d9b82a9036e"
      },
      "execution_count": 15,
      "outputs": [
        {
          "output_type": "stream",
          "name": "stdout",
          "text": [
            "{'Alice': [85, 90, 78, 92], 'Bob': [75, 80, 85, 79], 'Charlie': [88, 92, 94, 89], 'David': [70, 65, 80, 74], 'Emma': [95, 98, 97, 96], 'Frank': [60, 55, 70, 65], 'Grace': [82, 87, 85, 90], 'Hannah': [90, 88, 84, 91], 'Ian': [78, 80, 76, 79], 'Jack': [85, 82, 88, 86]}\n"
          ]
        }
      ]
    },
    {
      "cell_type": "markdown",
      "source": [
        "<br/><BR/>"
      ],
      "metadata": {
        "id": "T1VrXym6tjGs"
      }
    },
    {
      "cell_type": "markdown",
      "source": [
        "### **Submission**\n",
        "---\n",
        "\n",
        "When you believe you have the program correctly working, please run the program and enter valid details for height and weight (you don't need to use your own if you do not want to) to get the output of BMI to show.\n",
        "<br/><br/>\n",
        "When you are ready to submit please go to `File` -> `Print` -> `Print PDF` and then upload and submit in the LMS.\n",
        "\n",
        "Please save your file to GitHub via: `File` -> `Save a copy in GitHub`"
      ],
      "metadata": {
        "id": "N-XTusSvusCo"
      }
    }
  ]
}