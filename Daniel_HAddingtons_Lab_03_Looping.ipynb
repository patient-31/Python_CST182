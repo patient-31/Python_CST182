{
  "nbformat": 4,
  "nbformat_minor": 0,
  "metadata": {
    "colab": {
      "provenance": [],
      "toc_visible": true,
      "include_colab_link": true
    },
    "kernelspec": {
      "name": "python3",
      "display_name": "Python 3"
    },
    "language_info": {
      "name": "python"
    }
  },
  "cells": [
    {
      "cell_type": "markdown",
      "metadata": {
        "id": "view-in-github",
        "colab_type": "text"
      },
      "source": [
        "<a href=\"https://colab.research.google.com/github/patient-31/Python_CST182/blob/main/Daniel_HAddingtons_Lab_03_Looping.ipynb\" target=\"_parent\"><img src=\"https://colab.research.google.com/assets/colab-badge.svg\" alt=\"Open In Colab\"/></a>"
      ]
    },
    {
      "cell_type": "markdown",
      "source": [
        "# **LAB #03** - Looping\n",
        "<br/>\n"
      ],
      "metadata": {
        "id": "qdM8hjkwAnQ5"
      }
    },
    {
      "cell_type": "markdown",
      "source": [
        "><table>\n",
        "##**Lab Overview**\n",
        "\n",
        "These lab questions will help develop your understanding of how loops work and some of the applications where loops are used.  \n",
        "></table>\n",
        "\n",
        "<br/><br/>\n",
        "\n"
      ],
      "metadata": {
        "id": "ax351qT1A2wO"
      }
    },
    {
      "cell_type": "markdown",
      "source": [
        "# **Question #1** - Aggregates on User Input\n",
        "---\n",
        "<br/>\n",
        "\n",
        "Write a program that takes in from the user a list of marks until the user enters a negative number. Once this is done, the program should calculate and display\n",
        "\n",
        "\n",
        "\n",
        "1.   The number of marks\n",
        "2.   The highest mark\n",
        "3.   The lowest mark\n",
        "4.   The average of the marks\n",
        "\n",
        "(note: You cannot use the `max()` or `min()` functions)\n",
        "\n",
        "<br/>\n",
        "\n",
        "\n",
        "**<u>Example Run:</u>**<br/>\n",
        "Mark #1? **50**<br/>\n",
        "Mark #2? **60**<br/>\n",
        "Mark #3? **-1**<br/>\n",
        "Number of marks = 2<br/>\n",
        "Highest Mark = 60<br/>\n",
        "Lowest Mark = 50<br/>\n",
        "Average Mark = 55<br/>\n",
        "<br/>\n",
        "\n",
        "<Br/>\n",
        "\n",
        "><table>\n",
        "### BONUS\n",
        "---\n",
        "Try and add some validation into the program where if the user enters a mark over 100, a message is sent to the user that lets them know that the mark is invalid (and it doesn't add the mark to the statistics - the program just loops again to get another mark).\n",
        "</table>"
      ],
      "metadata": {
        "id": "f1kwJQuoLhE4"
      }
    },
    {
      "cell_type": "markdown",
      "source": [
        "### Your Answer:"
      ],
      "metadata": {
        "id": "jxaY-33JMb77"
      }
    },
    {
      "cell_type": "code",
      "source": [
        "# Student Name: Daniel Haddington\n",
        "# Student Number: 1034724\n",
        "\n",
        "\n",
        "# Add answer below this line\n",
        "def get_integer(prompt):\n",
        "\t\"\"\"ERROR CHECK FOR INTEGER INPUT\"\"\"\n",
        "\twhile True:\n",
        "\t\ttry:\n",
        "\t\t\tinteger = int(input(prompt))\n",
        "\t\t\treturn integer\n",
        "\t\texcept ValueError:\n",
        "\t\t\tprint(\"Invalid Input\")\n",
        "\n",
        "def main():\n",
        "  i = 0\n",
        "  high_mark = 0\n",
        "  low_mark = 100\n",
        "  num_marks = 0\n",
        "  listy = []\n",
        "  while True:\n",
        "    mark = get_integer(f\"Mark #{num_marks}? \")\n",
        "\n",
        "    if mark > 100:\n",
        "      print(\"Mark Invalid\")\n",
        "      continue\n",
        "    if mark == -1:\n",
        "      break\n",
        "\n",
        "    listy.append(mark)\n",
        "    num_marks += 1\n",
        "\n",
        "    if mark < low_mark:\n",
        "      low_mark = mark\n",
        "    if mark > high_mark:\n",
        "      high_mark = mark\n",
        "\n",
        "  print(f\"Number of Marks == {num_marks}\")\n",
        "  print(f\"Highest Mark == {high_mark}\")\n",
        "  print(f\"Lowest Mark == {low_mark}\")\n",
        "  total = 0\n",
        "  for item in listy:\n",
        "    total += item\n",
        "  average = total / (num_marks)\n",
        "  print(f\"Average Marks == {average}\")\n",
        "\n",
        "\n",
        "main()"
      ],
      "metadata": {
        "id": "Wc7e2wC5McY0",
        "colab": {
          "base_uri": "https://localhost:8080/"
        },
        "outputId": "f08d4866-9d76-42c4-a37b-e49870f694ca"
      },
      "execution_count": null,
      "outputs": [
        {
          "output_type": "stream",
          "name": "stdout",
          "text": [
            "Mark #0? 60\n",
            "Mark #1? 50\n",
            "Mark #2? 101\n",
            "Mark Invalid\n",
            "Mark #2? -1\n",
            "Number of Marks == 2\n",
            "Highest Mark == 60\n",
            "Lowest Mark == 50\n",
            "Average Marks == 55.0\n"
          ]
        }
      ]
    },
    {
      "cell_type": "markdown",
      "source": [
        "<Br/><br/>\n"
      ],
      "metadata": {
        "id": "McmLtW4vMjKn"
      }
    },
    {
      "cell_type": "markdown",
      "source": [
        "# **Question #2** - Interest Earning Calculator\n",
        "---\n",
        "\n",
        "<br/>\n",
        "\n",
        "Create a program that takes in details of a fixed-term interest saving account (initial balance, number of years, interest rate percentage) and creates a nicely formatted table that shows the details for each year. <br/><br/>\n",
        "\n",
        "\n",
        "**<u>Example Run:</u>**<br/>\n",
        "Balance? **100000**<br/>\n",
        "Years? **10**<br/>\n",
        "Interest Rate(%)? **5**<br/>\n",
        "```\n",
        "Year      Balance     Interest   Total Int.\n",
        "-------------------------------------------\n",
        "   1   105,000.00     5,000.00     5,000.00\n",
        "   2   110,250.00     5,250.00    10,250.00\n",
        "   3   115,762.50     5,512.50    15,762.50\n",
        "   4   121,550.62     5,788.12    21,550.62\n",
        "   5   127,628.16     6,077.53    27,628.16\n",
        "   6   134,009.56     6,381.41    34,009.56\n",
        "   7   140,710.04     6,700.48    40,710.04\n",
        "   8   147,745.54     7,035.50    47,745.54\n",
        "   9   155,132.82     7,387.28    55,132.82\n",
        "  10   162,889.46     7,756.64    62,889.46\n",
        "```\n",
        "\n",
        "<br/><br/>\n"
      ],
      "metadata": {
        "id": "9ML3CMJVBxuF"
      }
    },
    {
      "cell_type": "markdown",
      "source": [
        "### Your Answer:"
      ],
      "metadata": {
        "id": "gPCRbhBxGMN0"
      }
    },
    {
      "cell_type": "code",
      "execution_count": null,
      "metadata": {
        "id": "LuZZ6MqZAkbS",
        "colab": {
          "base_uri": "https://localhost:8080/"
        },
        "outputId": "3bf72ee6-d338-4598-8d54-4f109e646b7f"
      },
      "outputs": [
        {
          "output_type": "stream",
          "name": "stdout",
          "text": [
            "Balance? 100000\n",
            "Years?10\n",
            "Interest Rate (%) 5\n",
            "YEAR BALANCE             INTEREST  TOTAL INT.\n",
            "1    105000.00           5000.00   5000.00   \n",
            "2    110250.00           5250.00   10250.00  \n",
            "3    115762.50           5512.50   15762.50  \n",
            "4    121550.62           5788.12   21550.62  \n",
            "5    127628.16           6077.53   27628.16  \n",
            "6    134009.56           6381.41   34009.56  \n",
            "7    140710.04           6700.48   40710.04  \n",
            "8    147745.54           7035.50   47745.54  \n",
            "9    155132.82           7387.28   55132.82  \n",
            "10   162889.46           7756.64   62889.46  \n"
          ]
        }
      ],
      "source": [
        "# Student Name: Daniel Haddington\n",
        "# Student Number: 1034724\n",
        "\n",
        "# Add answer below this line\n",
        "\n",
        "def get_integer(prompt):\n",
        "\t\"\"\"ERROR CHECK FOR INTEGER INPUT\"\"\"\n",
        "\twhile True:\n",
        "\t\ttry:\n",
        "\t\t\tinteger = int(input(prompt))\n",
        "\t\t\treturn integer\n",
        "\t\texcept ValueError:\n",
        "\t\t\tprint(\"Invalid Input\")\n",
        "\n",
        "\n",
        "def main():\n",
        "  balance = get_integer(\"Balance? \")\n",
        "  years = get_integer(\"Years?\")\n",
        "  interest_rate = get_integer(\"Interest Rate (%) \")\n",
        "  total_interest = 0\n",
        "\n",
        "  print(f\"{'YEAR':<5}{'BALANCE':<20}{'INTEREST':<10}{'TOTAL INT.':<10}\")\n",
        "  for i in range(1, years + 1):\n",
        "    current_interest = balance * (interest_rate / 100)\n",
        "    balance += current_interest\n",
        "    total_interest += current_interest\n",
        "    print(f\"{i:<5}{balance:<20.2f}{current_interest:<10.2f}{total_interest:<10.2f}\")\n",
        "\n",
        "\n",
        "main()"
      ]
    },
    {
      "cell_type": "markdown",
      "source": [
        "<br/><br/>\n"
      ],
      "metadata": {
        "id": "gPpEwbJeD_qb"
      }
    },
    {
      "cell_type": "markdown",
      "source": [
        "# **Submission**\n",
        "---\n",
        "\n",
        "When you believe you have the program correctly working, please run the program and enter valid details for each program so that the output is apparent.\n",
        "<br/><br/>\n",
        "When you are ready to submit please\n",
        "\n",
        "*   go to `File` -> `Print` -> `Print PDF` and then upload and submit in the LMS.\n",
        "*   save your file to GitHub via: `File` -> `Save a copy in GitHub`\n"
      ],
      "metadata": {
        "id": "CxZ8SilaD9Gq"
      }
    }
  ]
}